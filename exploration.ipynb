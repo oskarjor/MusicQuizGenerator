{
 "cells": [
  {
   "cell_type": "code",
   "execution_count": 1,
   "metadata": {},
   "outputs": [],
   "source": [
    "import spotipy\n",
    "import pprint\n",
    "from spotipy.oauth2 import SpotifyClientCredentials, SpotifyOAuth\n",
    "from tqdm import tqdm\n",
    "import os\n",
    "from dotenv import load_dotenv\n",
    "\n",
    "load_dotenv()\n",
    "\n",
    "cid = os.getenv(\"CLIENT_ID\")\n",
    "secret = os.getenv(\"CLIENT_SECRET\")\n",
    "redirect_uri = os.getenv(\"REDIRECT_URI\")\n",
    "user = os.getenv(\"USER_ID\")\n",
    "scope = \"playlist-modify-private\"\n",
    "client_credentials_manager = SpotifyClientCredentials(client_id=cid, client_secret=secret)\n",
    "auth_manager = SpotifyOAuth(client_id=cid, client_secret=secret, redirect_uri=redirect_uri, scope=scope)\n",
    "sp = spotipy.Spotify(client_credentials_manager=client_credentials_manager, auth_manager=auth_manager)"
   ]
  },
  {
   "cell_type": "code",
   "execution_count": 14,
   "metadata": {},
   "outputs": [],
   "source": [
    "def find_popular_by_query(query: str, popularity: int = 70):\n",
    "    results = {}\n",
    "    for i in tqdm(range(0, 1000, 50), leave=False):\n",
    "        track_results = sp.search(q=f\"track:{query}\", type=\"track\", limit=50, offset=i)    \n",
    "        for t in track_results['tracks']['items']:\n",
    "            if(t[\"popularity\"] > popularity):\n",
    "                results[t[\"id\"]] = {\n",
    "                    \"name\": t[\"name\"], \n",
    "                    \"artist\": t[\"artists\"][0][\"name\"], \n",
    "                    \"popularity\": t[\"popularity\"]\n",
    "                    }\n",
    "    return results"
   ]
  },
  {
   "cell_type": "code",
   "execution_count": 3,
   "metadata": {},
   "outputs": [],
   "source": [
    "def create_playlist(name: str, user: str = user):    \n",
    "    playlist = sp.user_playlist_create(\n",
    "        user, \n",
    "        name, \n",
    "        public=False, \n",
    "        collaborative=False, \n",
    "        description=f'A playlist containing songs related to {name.lower()}'\n",
    "        )\n",
    "    return playlist"
   ]
  },
  {
   "cell_type": "code",
   "execution_count": 4,
   "metadata": {},
   "outputs": [],
   "source": [
    "def get_tracks_from_playlist(user: str, playlist_id: str, max_len: int = 10000):\n",
    "    track_ids = []\n",
    "    total_tracks_in_playlist = []\n",
    "    for i in range(0, max_len, 100):\n",
    "        tracks_in_playlist = sp.user_playlist_tracks(user=user, playlist_id=playlist_id, limit=100, offset=i)\n",
    "        total_tracks_in_playlist.append(tracks_in_playlist)\n",
    "    for tracks_in_playlist in total_tracks_in_playlist:\n",
    "        for track in tracks_in_playlist[\"items\"]:\n",
    "            track_ids.append(track[\"track\"][\"id\"])\n",
    "    return track_ids"
   ]
  },
  {
   "cell_type": "code",
   "execution_count": 12,
   "metadata": {},
   "outputs": [],
   "source": [
    "def get_results_by_terms(queries: list[str], popularity: int = 75):\n",
    "    total_result = []\n",
    "    for query in tqdm(queries):\n",
    "        result = find_popular_by_query(query=query.lower(), popularity=popularity)\n",
    "        total_result += result.keys()\n",
    "    return total_result"
   ]
  },
  {
   "cell_type": "code",
   "execution_count": 6,
   "metadata": {},
   "outputs": [],
   "source": [
    "def add_to_playlist_by_ids(ids: list[str], playlist_id, sp: spotipy.Spotify = sp):\n",
    "    for i in range(0, len(ids), 100):\n",
    "        sp.user_playlist_add_tracks(user=user, playlist_id=playlist_id, tracks=ids[i:min(i+100, len(ids))], position=None)"
   ]
  },
  {
   "cell_type": "code",
   "execution_count": 7,
   "metadata": {},
   "outputs": [],
   "source": [
    "def delete_playlist(playlist_id: str, sp: spotipy.Spotify = sp):\n",
    "    sp.current_user_unfollow_playlist(playlist_id=playlist_id)"
   ]
  },
  {
   "cell_type": "code",
   "execution_count": 8,
   "metadata": {},
   "outputs": [],
   "source": [
    "colors = [\n",
    "    \"Red\",\n",
    "    \"Orange\",\n",
    "    \"Yellow\",\n",
    "    \"Green\",\n",
    "    \"Cyan\",\n",
    "    \"Blue\",\n",
    "    \"Magenta\",\n",
    "    \"Purple\",\n",
    "    \"White\",\n",
    "    \"Black\",\n",
    "    \"Gray\",\n",
    "    \"Grey\",\n",
    "    \"Silver\",\n",
    "    \"Pink\",\n",
    "    \"Maroon\",\n",
    "    \"Brown\",\n",
    "    \"Beige\",\n",
    "    \"Peach\",\n",
    "    \"Lime\",\n",
    "    \"Turquoise\",\n",
    "    \"Teal\",\n",
    "    \"Indigo\",\n",
    "    \"Violet\",\n",
    "]"
   ]
  },
  {
   "cell_type": "code",
   "execution_count": 9,
   "metadata": {},
   "outputs": [],
   "source": [
    "animals = [\n",
    "    \"Aardvark\", \n",
    "    \"Alligator\", \n",
    "    \"Alpaca\", \n",
    "    \"Anaconda\", \n",
    "    \"Ant\", \n",
    "    \"Anteater\", \n",
    "    \"Antelope\", \n",
    "    \"Aphid\", \n",
    "    \"Armadillo\", \n",
    "    \"Asp\", \n",
    "    \"Ass\", \n",
    "    \"Baboon\", \n",
    "    \"Badger\", \n",
    "    \"Bald Eagle\", \n",
    "    \"Barracuda\", \n",
    "    \"Bass\", \n",
    "    \"Basset Hound\", \n",
    "    \"Bat\", \n",
    "    \"Bearded Dragon\", \n",
    "    \"Beaver\", \n",
    "    \"Bedbug\", \n",
    "    \"Bee\", \n",
    "    \"Bee-eater\", \n",
    "    \"Bird\", \n",
    "    \"Bison\", \n",
    "    \"Black panther\", \n",
    "    \"Black Widow Spider\", \n",
    "    \"Blue Jay\", \n",
    "    \"Blue Whale\", \n",
    "    \"Bobcat\", \n",
    "    \"Buffalo\", \n",
    "    \"Butterfly\", \n",
    "    \"Buzzard\", \n",
    "    \"Camel\", \n",
    "    \"Canada Lynx\", \n",
    "    \"Carp\", \n",
    "    \"Cat\", \n",
    "    \"Caterpillar\", \n",
    "    \"Catfish\", \n",
    "    \"Cheetah\", \n",
    "    \"Chicken\", \n",
    "    \"Chimpanzee\", \n",
    "    \"Chipmunk\", \n",
    "    \"Cobra\", \n",
    "    \"Cod\", \n",
    "    \"Condor\", \n",
    "    \"Cougar\", \n",
    "    \"Cow\", \n",
    "    \"Coyote\", \n",
    "    \"Crab\", \n",
    "    \"Crane Fly\", \n",
    "    \"Cricket\", \n",
    "    \"Crocodile\", \n",
    "    \"Crow\", \n",
    "    \"Cuckoo\", \n",
    "    \"Deer\", \n",
    "    \"Dinosaur\", \n",
    "    \"Dog\", \n",
    "    \"Dolphin\", \n",
    "    \"Donkey\", \n",
    "    \"Dove\", \n",
    "    \"Dragonfly\", \n",
    "    \"Duck\", \n",
    "    \"Eagle\", \n",
    "    \"Eel\", \n",
    "    \"Elephant\", \n",
    "    \"Emu\", \n",
    "    \"Falcon\", \n",
    "    \"Ferret\", \n",
    "    \"Finch\", \n",
    "    \"Fish\", \n",
    "    \"Flamingo\", \n",
    "    \"Flea\", \n",
    "    \"Fly\", \n",
    "    \"Fox\", \n",
    "    \"Frog\", \n",
    "    \"Goat\", \n",
    "    \"Goose\", \n",
    "    \"Gopher\", \n",
    "    \"Gorilla\", \n",
    "    \"Guinea Pig\", \n",
    "    \"Hamster\", \n",
    "    \"Hare\", \n",
    "    \"Hawk\", \n",
    "    \"Hippopotamus\", \n",
    "    \"Horse\", \n",
    "    \"Hummingbird\", \n",
    "    \"Humpback Whale\", \n",
    "    \"Husky\", \n",
    "    \"Iguana\", \n",
    "    \"Impala\", \n",
    "    \"Kangaroo\", \n",
    "    \"Lemur\", \n",
    "    \"Leopard\", \n",
    "    \"Lion\", \n",
    "    \"Lizard\", \n",
    "    \"Llama\", \n",
    "    \"Lobster\", \n",
    "    \"Margay\", \n",
    "    \"Monitor lizard\", \n",
    "    \"Monkey\", \n",
    "    \"Moose\", \n",
    "    \"Mosquito\", \n",
    "    \"Moth\", \n",
    "    \"Mountain Zebra\", \n",
    "    \"Mouse\", \n",
    "    \"Mule\", \n",
    "    \"Octopus\", \n",
    "    \"Orca\", \n",
    "    \"Ostrich\", \n",
    "    \"Otter\", \n",
    "    \"Owl\", \n",
    "    \"Ox\", \n",
    "    \"Oyster\", \n",
    "    \"Panda\", \n",
    "    \"Parrot\", \n",
    "    \"Peacock\", \n",
    "    \"Pelican\", \n",
    "    \"Penguin\", \n",
    "    \"Perch\", \n",
    "    \"Pheasant\", \n",
    "    \"Pig\", \n",
    "    \"Pigeon\", \n",
    "    \"Polar bear\", \n",
    "    \"Porcupine\", \n",
    "    \"Quagga\", \n",
    "    \"Rabbit\", \n",
    "    \"Raccoon\", \n",
    "    \"Rat\", \n",
    "    \"Rattlesnake\", \n",
    "    \"Red Wolf\", \n",
    "    \"Rooster\", \n",
    "    \"Seal\", \n",
    "    \"Sheep\", \n",
    "    \"Skunk\", \n",
    "    \"Sloth\", \n",
    "    \"Snail\", \n",
    "    \"Snake\", \n",
    "    \"Spider\", \n",
    "    \"Tiger\", \n",
    "    \"Whale\", \n",
    "    \"Wolf\", \n",
    "    \"Wombat\", \n",
    "    \"Zebra\", \n",
    "]"
   ]
  },
  {
   "cell_type": "code",
   "execution_count": 10,
   "metadata": {},
   "outputs": [],
   "source": [
    "animal_playlist = create_playlist(\"Animals\", user=user)"
   ]
  },
  {
   "cell_type": "code",
   "execution_count": 13,
   "metadata": {},
   "outputs": [
    {
     "name": "stderr",
     "output_type": "stream",
     "text": [
      "100%|██████████| 20/20 [00:05<00:00,  3.86it/s]\n",
      "100%|██████████| 20/20 [00:09<00:00,  2.12it/s]\n",
      " 10%|█         | 2/20 [00:02<00:26,  1.50s/it]]\n",
      "  1%|▏         | 2/144 [00:17<20:51,  8.82s/it]\n"
     ]
    },
    {
     "ename": "KeyboardInterrupt",
     "evalue": "",
     "output_type": "error",
     "traceback": [
      "\u001b[0;31m---------------------------------------------------------------------------\u001b[0m",
      "\u001b[0;31mKeyboardInterrupt\u001b[0m                         Traceback (most recent call last)",
      "Cell \u001b[0;32mIn [13], line 1\u001b[0m\n\u001b[0;32m----> 1\u001b[0m animal_results \u001b[39m=\u001b[39m get_results_by_terms(animals, popularity\u001b[39m=\u001b[39;49m\u001b[39m80\u001b[39;49m)\n",
      "Cell \u001b[0;32mIn [12], line 4\u001b[0m, in \u001b[0;36mget_results_by_terms\u001b[0;34m(queries, popularity)\u001b[0m\n\u001b[1;32m      2\u001b[0m total_result \u001b[39m=\u001b[39m []\n\u001b[1;32m      3\u001b[0m \u001b[39mfor\u001b[39;00m query \u001b[39min\u001b[39;00m tqdm(queries):\n\u001b[0;32m----> 4\u001b[0m     result \u001b[39m=\u001b[39m find_popular_by_query(query\u001b[39m=\u001b[39;49mquery\u001b[39m.\u001b[39;49mlower(), popularity\u001b[39m=\u001b[39;49mpopularity)\n\u001b[1;32m      5\u001b[0m     total_result \u001b[39m+\u001b[39m\u001b[39m=\u001b[39m result\u001b[39m.\u001b[39mkeys()\n\u001b[1;32m      6\u001b[0m \u001b[39mreturn\u001b[39;00m total_result\n",
      "Cell \u001b[0;32mIn [2], line 4\u001b[0m, in \u001b[0;36mfind_popular_by_query\u001b[0;34m(query, popularity)\u001b[0m\n\u001b[1;32m      2\u001b[0m results \u001b[39m=\u001b[39m {}\n\u001b[1;32m      3\u001b[0m \u001b[39mfor\u001b[39;00m i \u001b[39min\u001b[39;00m tqdm(\u001b[39mrange\u001b[39m(\u001b[39m0\u001b[39m, \u001b[39m1000\u001b[39m, \u001b[39m50\u001b[39m)):\n\u001b[0;32m----> 4\u001b[0m     track_results \u001b[39m=\u001b[39m sp\u001b[39m.\u001b[39;49msearch(q\u001b[39m=\u001b[39;49m\u001b[39mf\u001b[39;49m\u001b[39m\"\u001b[39;49m\u001b[39mtrack:\u001b[39;49m\u001b[39m{\u001b[39;49;00mquery\u001b[39m}\u001b[39;49;00m\u001b[39m\"\u001b[39;49m, \u001b[39mtype\u001b[39;49m\u001b[39m=\u001b[39;49m\u001b[39m\"\u001b[39;49m\u001b[39mtrack\u001b[39;49m\u001b[39m\"\u001b[39;49m, limit\u001b[39m=\u001b[39;49m\u001b[39m50\u001b[39;49m, offset\u001b[39m=\u001b[39;49mi)    \n\u001b[1;32m      5\u001b[0m     \u001b[39mfor\u001b[39;00m t \u001b[39min\u001b[39;00m track_results[\u001b[39m'\u001b[39m\u001b[39mtracks\u001b[39m\u001b[39m'\u001b[39m][\u001b[39m'\u001b[39m\u001b[39mitems\u001b[39m\u001b[39m'\u001b[39m]:\n\u001b[1;32m      6\u001b[0m         \u001b[39mif\u001b[39;00m(t[\u001b[39m\"\u001b[39m\u001b[39mpopularity\u001b[39m\u001b[39m\"\u001b[39m] \u001b[39m>\u001b[39m popularity):\n",
      "File \u001b[0;32m~/miniconda3/envs/spotify/lib/python3.10/site-packages/spotipy/client.py:553\u001b[0m, in \u001b[0;36mSpotify.search\u001b[0;34m(self, q, limit, offset, type, market)\u001b[0m\n\u001b[1;32m    538\u001b[0m \u001b[39mdef\u001b[39;00m \u001b[39msearch\u001b[39m(\u001b[39mself\u001b[39m, q, limit\u001b[39m=\u001b[39m\u001b[39m10\u001b[39m, offset\u001b[39m=\u001b[39m\u001b[39m0\u001b[39m, \u001b[39mtype\u001b[39m\u001b[39m=\u001b[39m\u001b[39m\"\u001b[39m\u001b[39mtrack\u001b[39m\u001b[39m\"\u001b[39m, market\u001b[39m=\u001b[39m\u001b[39mNone\u001b[39;00m):\n\u001b[1;32m    539\u001b[0m     \u001b[39m\"\"\" searches for an item\u001b[39;00m\n\u001b[1;32m    540\u001b[0m \n\u001b[1;32m    541\u001b[0m \u001b[39m        Parameters:\u001b[39;00m\n\u001b[0;32m   (...)\u001b[0m\n\u001b[1;32m    551\u001b[0m \u001b[39m                       from_token.\u001b[39;00m\n\u001b[1;32m    552\u001b[0m \u001b[39m    \"\"\"\u001b[39;00m\n\u001b[0;32m--> 553\u001b[0m     \u001b[39mreturn\u001b[39;00m \u001b[39mself\u001b[39;49m\u001b[39m.\u001b[39;49m_get(\n\u001b[1;32m    554\u001b[0m         \u001b[39m\"\u001b[39;49m\u001b[39msearch\u001b[39;49m\u001b[39m\"\u001b[39;49m, q\u001b[39m=\u001b[39;49mq, limit\u001b[39m=\u001b[39;49mlimit, offset\u001b[39m=\u001b[39;49moffset, \u001b[39mtype\u001b[39;49m\u001b[39m=\u001b[39;49m\u001b[39mtype\u001b[39;49m, market\u001b[39m=\u001b[39;49mmarket\n\u001b[1;32m    555\u001b[0m     )\n",
      "File \u001b[0;32m~/miniconda3/envs/spotify/lib/python3.10/site-packages/spotipy/client.py:297\u001b[0m, in \u001b[0;36mSpotify._get\u001b[0;34m(self, url, args, payload, **kwargs)\u001b[0m\n\u001b[1;32m    294\u001b[0m \u001b[39mif\u001b[39;00m args:\n\u001b[1;32m    295\u001b[0m     kwargs\u001b[39m.\u001b[39mupdate(args)\n\u001b[0;32m--> 297\u001b[0m \u001b[39mreturn\u001b[39;00m \u001b[39mself\u001b[39;49m\u001b[39m.\u001b[39;49m_internal_call(\u001b[39m\"\u001b[39;49m\u001b[39mGET\u001b[39;49m\u001b[39m\"\u001b[39;49m, url, payload, kwargs)\n",
      "File \u001b[0;32m~/miniconda3/envs/spotify/lib/python3.10/site-packages/spotipy/client.py:240\u001b[0m, in \u001b[0;36mSpotify._internal_call\u001b[0;34m(self, method, url, payload, params)\u001b[0m\n\u001b[1;32m    236\u001b[0m logger\u001b[39m.\u001b[39mdebug(\u001b[39m'\u001b[39m\u001b[39mSending \u001b[39m\u001b[39m%s\u001b[39;00m\u001b[39m to \u001b[39m\u001b[39m%s\u001b[39;00m\u001b[39m with Params: \u001b[39m\u001b[39m%s\u001b[39;00m\u001b[39m Headers: \u001b[39m\u001b[39m%s\u001b[39;00m\u001b[39m and Body: \u001b[39m\u001b[39m%r\u001b[39;00m\u001b[39m \u001b[39m\u001b[39m'\u001b[39m,\n\u001b[1;32m    237\u001b[0m              method, url, args\u001b[39m.\u001b[39mget(\u001b[39m\"\u001b[39m\u001b[39mparams\u001b[39m\u001b[39m\"\u001b[39m), headers, args\u001b[39m.\u001b[39mget(\u001b[39m'\u001b[39m\u001b[39mdata\u001b[39m\u001b[39m'\u001b[39m))\n\u001b[1;32m    239\u001b[0m \u001b[39mtry\u001b[39;00m:\n\u001b[0;32m--> 240\u001b[0m     response \u001b[39m=\u001b[39m \u001b[39mself\u001b[39;49m\u001b[39m.\u001b[39;49m_session\u001b[39m.\u001b[39;49mrequest(\n\u001b[1;32m    241\u001b[0m         method, url, headers\u001b[39m=\u001b[39;49mheaders, proxies\u001b[39m=\u001b[39;49m\u001b[39mself\u001b[39;49m\u001b[39m.\u001b[39;49mproxies,\n\u001b[1;32m    242\u001b[0m         timeout\u001b[39m=\u001b[39;49m\u001b[39mself\u001b[39;49m\u001b[39m.\u001b[39;49mrequests_timeout, \u001b[39m*\u001b[39;49m\u001b[39m*\u001b[39;49margs\n\u001b[1;32m    243\u001b[0m     )\n\u001b[1;32m    245\u001b[0m     response\u001b[39m.\u001b[39mraise_for_status()\n\u001b[1;32m    246\u001b[0m     results \u001b[39m=\u001b[39m response\u001b[39m.\u001b[39mjson()\n",
      "File \u001b[0;32m~/miniconda3/envs/spotify/lib/python3.10/site-packages/requests/sessions.py:587\u001b[0m, in \u001b[0;36mSession.request\u001b[0;34m(self, method, url, params, data, headers, cookies, files, auth, timeout, allow_redirects, proxies, hooks, stream, verify, cert, json)\u001b[0m\n\u001b[1;32m    582\u001b[0m send_kwargs \u001b[39m=\u001b[39m {\n\u001b[1;32m    583\u001b[0m     \u001b[39m\"\u001b[39m\u001b[39mtimeout\u001b[39m\u001b[39m\"\u001b[39m: timeout,\n\u001b[1;32m    584\u001b[0m     \u001b[39m\"\u001b[39m\u001b[39mallow_redirects\u001b[39m\u001b[39m\"\u001b[39m: allow_redirects,\n\u001b[1;32m    585\u001b[0m }\n\u001b[1;32m    586\u001b[0m send_kwargs\u001b[39m.\u001b[39mupdate(settings)\n\u001b[0;32m--> 587\u001b[0m resp \u001b[39m=\u001b[39m \u001b[39mself\u001b[39;49m\u001b[39m.\u001b[39;49msend(prep, \u001b[39m*\u001b[39;49m\u001b[39m*\u001b[39;49msend_kwargs)\n\u001b[1;32m    589\u001b[0m \u001b[39mreturn\u001b[39;00m resp\n",
      "File \u001b[0;32m~/miniconda3/envs/spotify/lib/python3.10/site-packages/requests/sessions.py:701\u001b[0m, in \u001b[0;36mSession.send\u001b[0;34m(self, request, **kwargs)\u001b[0m\n\u001b[1;32m    698\u001b[0m start \u001b[39m=\u001b[39m preferred_clock()\n\u001b[1;32m    700\u001b[0m \u001b[39m# Send the request\u001b[39;00m\n\u001b[0;32m--> 701\u001b[0m r \u001b[39m=\u001b[39m adapter\u001b[39m.\u001b[39;49msend(request, \u001b[39m*\u001b[39;49m\u001b[39m*\u001b[39;49mkwargs)\n\u001b[1;32m    703\u001b[0m \u001b[39m# Total elapsed time of the request (approximately)\u001b[39;00m\n\u001b[1;32m    704\u001b[0m elapsed \u001b[39m=\u001b[39m preferred_clock() \u001b[39m-\u001b[39m start\n",
      "File \u001b[0;32m~/miniconda3/envs/spotify/lib/python3.10/site-packages/requests/adapters.py:489\u001b[0m, in \u001b[0;36mHTTPAdapter.send\u001b[0;34m(self, request, stream, timeout, verify, cert, proxies)\u001b[0m\n\u001b[1;32m    487\u001b[0m \u001b[39mtry\u001b[39;00m:\n\u001b[1;32m    488\u001b[0m     \u001b[39mif\u001b[39;00m \u001b[39mnot\u001b[39;00m chunked:\n\u001b[0;32m--> 489\u001b[0m         resp \u001b[39m=\u001b[39m conn\u001b[39m.\u001b[39;49murlopen(\n\u001b[1;32m    490\u001b[0m             method\u001b[39m=\u001b[39;49mrequest\u001b[39m.\u001b[39;49mmethod,\n\u001b[1;32m    491\u001b[0m             url\u001b[39m=\u001b[39;49murl,\n\u001b[1;32m    492\u001b[0m             body\u001b[39m=\u001b[39;49mrequest\u001b[39m.\u001b[39;49mbody,\n\u001b[1;32m    493\u001b[0m             headers\u001b[39m=\u001b[39;49mrequest\u001b[39m.\u001b[39;49mheaders,\n\u001b[1;32m    494\u001b[0m             redirect\u001b[39m=\u001b[39;49m\u001b[39mFalse\u001b[39;49;00m,\n\u001b[1;32m    495\u001b[0m             assert_same_host\u001b[39m=\u001b[39;49m\u001b[39mFalse\u001b[39;49;00m,\n\u001b[1;32m    496\u001b[0m             preload_content\u001b[39m=\u001b[39;49m\u001b[39mFalse\u001b[39;49;00m,\n\u001b[1;32m    497\u001b[0m             decode_content\u001b[39m=\u001b[39;49m\u001b[39mFalse\u001b[39;49;00m,\n\u001b[1;32m    498\u001b[0m             retries\u001b[39m=\u001b[39;49m\u001b[39mself\u001b[39;49m\u001b[39m.\u001b[39;49mmax_retries,\n\u001b[1;32m    499\u001b[0m             timeout\u001b[39m=\u001b[39;49mtimeout,\n\u001b[1;32m    500\u001b[0m         )\n\u001b[1;32m    502\u001b[0m     \u001b[39m# Send the request.\u001b[39;00m\n\u001b[1;32m    503\u001b[0m     \u001b[39melse\u001b[39;00m:\n\u001b[1;32m    504\u001b[0m         \u001b[39mif\u001b[39;00m \u001b[39mhasattr\u001b[39m(conn, \u001b[39m\"\u001b[39m\u001b[39mproxy_pool\u001b[39m\u001b[39m\"\u001b[39m):\n",
      "File \u001b[0;32m~/miniconda3/envs/spotify/lib/python3.10/site-packages/urllib3/connectionpool.py:703\u001b[0m, in \u001b[0;36mHTTPConnectionPool.urlopen\u001b[0;34m(self, method, url, body, headers, retries, redirect, assert_same_host, timeout, pool_timeout, release_conn, chunked, body_pos, **response_kw)\u001b[0m\n\u001b[1;32m    700\u001b[0m     \u001b[39mself\u001b[39m\u001b[39m.\u001b[39m_prepare_proxy(conn)\n\u001b[1;32m    702\u001b[0m \u001b[39m# Make the request on the httplib connection object.\u001b[39;00m\n\u001b[0;32m--> 703\u001b[0m httplib_response \u001b[39m=\u001b[39m \u001b[39mself\u001b[39;49m\u001b[39m.\u001b[39;49m_make_request(\n\u001b[1;32m    704\u001b[0m     conn,\n\u001b[1;32m    705\u001b[0m     method,\n\u001b[1;32m    706\u001b[0m     url,\n\u001b[1;32m    707\u001b[0m     timeout\u001b[39m=\u001b[39;49mtimeout_obj,\n\u001b[1;32m    708\u001b[0m     body\u001b[39m=\u001b[39;49mbody,\n\u001b[1;32m    709\u001b[0m     headers\u001b[39m=\u001b[39;49mheaders,\n\u001b[1;32m    710\u001b[0m     chunked\u001b[39m=\u001b[39;49mchunked,\n\u001b[1;32m    711\u001b[0m )\n\u001b[1;32m    713\u001b[0m \u001b[39m# If we're going to release the connection in ``finally:``, then\u001b[39;00m\n\u001b[1;32m    714\u001b[0m \u001b[39m# the response doesn't need to know about the connection. Otherwise\u001b[39;00m\n\u001b[1;32m    715\u001b[0m \u001b[39m# it will also try to release it and we'll have a double-release\u001b[39;00m\n\u001b[1;32m    716\u001b[0m \u001b[39m# mess.\u001b[39;00m\n\u001b[1;32m    717\u001b[0m response_conn \u001b[39m=\u001b[39m conn \u001b[39mif\u001b[39;00m \u001b[39mnot\u001b[39;00m release_conn \u001b[39melse\u001b[39;00m \u001b[39mNone\u001b[39;00m\n",
      "File \u001b[0;32m~/miniconda3/envs/spotify/lib/python3.10/site-packages/urllib3/connectionpool.py:449\u001b[0m, in \u001b[0;36mHTTPConnectionPool._make_request\u001b[0;34m(self, conn, method, url, timeout, chunked, **httplib_request_kw)\u001b[0m\n\u001b[1;32m    444\u001b[0m             httplib_response \u001b[39m=\u001b[39m conn\u001b[39m.\u001b[39mgetresponse()\n\u001b[1;32m    445\u001b[0m         \u001b[39mexcept\u001b[39;00m \u001b[39mBaseException\u001b[39;00m \u001b[39mas\u001b[39;00m e:\n\u001b[1;32m    446\u001b[0m             \u001b[39m# Remove the TypeError from the exception chain in\u001b[39;00m\n\u001b[1;32m    447\u001b[0m             \u001b[39m# Python 3 (including for exceptions like SystemExit).\u001b[39;00m\n\u001b[1;32m    448\u001b[0m             \u001b[39m# Otherwise it looks like a bug in the code.\u001b[39;00m\n\u001b[0;32m--> 449\u001b[0m             six\u001b[39m.\u001b[39;49mraise_from(e, \u001b[39mNone\u001b[39;49;00m)\n\u001b[1;32m    450\u001b[0m \u001b[39mexcept\u001b[39;00m (SocketTimeout, BaseSSLError, SocketError) \u001b[39mas\u001b[39;00m e:\n\u001b[1;32m    451\u001b[0m     \u001b[39mself\u001b[39m\u001b[39m.\u001b[39m_raise_timeout(err\u001b[39m=\u001b[39me, url\u001b[39m=\u001b[39murl, timeout_value\u001b[39m=\u001b[39mread_timeout)\n",
      "File \u001b[0;32m<string>:3\u001b[0m, in \u001b[0;36mraise_from\u001b[0;34m(value, from_value)\u001b[0m\n",
      "File \u001b[0;32m~/miniconda3/envs/spotify/lib/python3.10/site-packages/urllib3/connectionpool.py:444\u001b[0m, in \u001b[0;36mHTTPConnectionPool._make_request\u001b[0;34m(self, conn, method, url, timeout, chunked, **httplib_request_kw)\u001b[0m\n\u001b[1;32m    441\u001b[0m \u001b[39mexcept\u001b[39;00m \u001b[39mTypeError\u001b[39;00m:\n\u001b[1;32m    442\u001b[0m     \u001b[39m# Python 3\u001b[39;00m\n\u001b[1;32m    443\u001b[0m     \u001b[39mtry\u001b[39;00m:\n\u001b[0;32m--> 444\u001b[0m         httplib_response \u001b[39m=\u001b[39m conn\u001b[39m.\u001b[39;49mgetresponse()\n\u001b[1;32m    445\u001b[0m     \u001b[39mexcept\u001b[39;00m \u001b[39mBaseException\u001b[39;00m \u001b[39mas\u001b[39;00m e:\n\u001b[1;32m    446\u001b[0m         \u001b[39m# Remove the TypeError from the exception chain in\u001b[39;00m\n\u001b[1;32m    447\u001b[0m         \u001b[39m# Python 3 (including for exceptions like SystemExit).\u001b[39;00m\n\u001b[1;32m    448\u001b[0m         \u001b[39m# Otherwise it looks like a bug in the code.\u001b[39;00m\n\u001b[1;32m    449\u001b[0m         six\u001b[39m.\u001b[39mraise_from(e, \u001b[39mNone\u001b[39;00m)\n",
      "File \u001b[0;32m~/miniconda3/envs/spotify/lib/python3.10/http/client.py:1374\u001b[0m, in \u001b[0;36mHTTPConnection.getresponse\u001b[0;34m(self)\u001b[0m\n\u001b[1;32m   1372\u001b[0m \u001b[39mtry\u001b[39;00m:\n\u001b[1;32m   1373\u001b[0m     \u001b[39mtry\u001b[39;00m:\n\u001b[0;32m-> 1374\u001b[0m         response\u001b[39m.\u001b[39;49mbegin()\n\u001b[1;32m   1375\u001b[0m     \u001b[39mexcept\u001b[39;00m \u001b[39mConnectionError\u001b[39;00m:\n\u001b[1;32m   1376\u001b[0m         \u001b[39mself\u001b[39m\u001b[39m.\u001b[39mclose()\n",
      "File \u001b[0;32m~/miniconda3/envs/spotify/lib/python3.10/http/client.py:318\u001b[0m, in \u001b[0;36mHTTPResponse.begin\u001b[0;34m(self)\u001b[0m\n\u001b[1;32m    316\u001b[0m \u001b[39m# read until we get a non-100 response\u001b[39;00m\n\u001b[1;32m    317\u001b[0m \u001b[39mwhile\u001b[39;00m \u001b[39mTrue\u001b[39;00m:\n\u001b[0;32m--> 318\u001b[0m     version, status, reason \u001b[39m=\u001b[39m \u001b[39mself\u001b[39;49m\u001b[39m.\u001b[39;49m_read_status()\n\u001b[1;32m    319\u001b[0m     \u001b[39mif\u001b[39;00m status \u001b[39m!=\u001b[39m CONTINUE:\n\u001b[1;32m    320\u001b[0m         \u001b[39mbreak\u001b[39;00m\n",
      "File \u001b[0;32m~/miniconda3/envs/spotify/lib/python3.10/http/client.py:279\u001b[0m, in \u001b[0;36mHTTPResponse._read_status\u001b[0;34m(self)\u001b[0m\n\u001b[1;32m    278\u001b[0m \u001b[39mdef\u001b[39;00m \u001b[39m_read_status\u001b[39m(\u001b[39mself\u001b[39m):\n\u001b[0;32m--> 279\u001b[0m     line \u001b[39m=\u001b[39m \u001b[39mstr\u001b[39m(\u001b[39mself\u001b[39;49m\u001b[39m.\u001b[39;49mfp\u001b[39m.\u001b[39;49mreadline(_MAXLINE \u001b[39m+\u001b[39;49m \u001b[39m1\u001b[39;49m), \u001b[39m\"\u001b[39m\u001b[39miso-8859-1\u001b[39m\u001b[39m\"\u001b[39m)\n\u001b[1;32m    280\u001b[0m     \u001b[39mif\u001b[39;00m \u001b[39mlen\u001b[39m(line) \u001b[39m>\u001b[39m _MAXLINE:\n\u001b[1;32m    281\u001b[0m         \u001b[39mraise\u001b[39;00m LineTooLong(\u001b[39m\"\u001b[39m\u001b[39mstatus line\u001b[39m\u001b[39m\"\u001b[39m)\n",
      "File \u001b[0;32m~/miniconda3/envs/spotify/lib/python3.10/socket.py:705\u001b[0m, in \u001b[0;36mSocketIO.readinto\u001b[0;34m(self, b)\u001b[0m\n\u001b[1;32m    703\u001b[0m \u001b[39mwhile\u001b[39;00m \u001b[39mTrue\u001b[39;00m:\n\u001b[1;32m    704\u001b[0m     \u001b[39mtry\u001b[39;00m:\n\u001b[0;32m--> 705\u001b[0m         \u001b[39mreturn\u001b[39;00m \u001b[39mself\u001b[39;49m\u001b[39m.\u001b[39;49m_sock\u001b[39m.\u001b[39;49mrecv_into(b)\n\u001b[1;32m    706\u001b[0m     \u001b[39mexcept\u001b[39;00m timeout:\n\u001b[1;32m    707\u001b[0m         \u001b[39mself\u001b[39m\u001b[39m.\u001b[39m_timeout_occurred \u001b[39m=\u001b[39m \u001b[39mTrue\u001b[39;00m\n",
      "File \u001b[0;32m~/miniconda3/envs/spotify/lib/python3.10/ssl.py:1274\u001b[0m, in \u001b[0;36mSSLSocket.recv_into\u001b[0;34m(self, buffer, nbytes, flags)\u001b[0m\n\u001b[1;32m   1270\u001b[0m     \u001b[39mif\u001b[39;00m flags \u001b[39m!=\u001b[39m \u001b[39m0\u001b[39m:\n\u001b[1;32m   1271\u001b[0m         \u001b[39mraise\u001b[39;00m \u001b[39mValueError\u001b[39;00m(\n\u001b[1;32m   1272\u001b[0m           \u001b[39m\"\u001b[39m\u001b[39mnon-zero flags not allowed in calls to recv_into() on \u001b[39m\u001b[39m%s\u001b[39;00m\u001b[39m\"\u001b[39m \u001b[39m%\u001b[39m\n\u001b[1;32m   1273\u001b[0m           \u001b[39mself\u001b[39m\u001b[39m.\u001b[39m\u001b[39m__class__\u001b[39m)\n\u001b[0;32m-> 1274\u001b[0m     \u001b[39mreturn\u001b[39;00m \u001b[39mself\u001b[39;49m\u001b[39m.\u001b[39;49mread(nbytes, buffer)\n\u001b[1;32m   1275\u001b[0m \u001b[39melse\u001b[39;00m:\n\u001b[1;32m   1276\u001b[0m     \u001b[39mreturn\u001b[39;00m \u001b[39msuper\u001b[39m()\u001b[39m.\u001b[39mrecv_into(buffer, nbytes, flags)\n",
      "File \u001b[0;32m~/miniconda3/envs/spotify/lib/python3.10/ssl.py:1130\u001b[0m, in \u001b[0;36mSSLSocket.read\u001b[0;34m(self, len, buffer)\u001b[0m\n\u001b[1;32m   1128\u001b[0m \u001b[39mtry\u001b[39;00m:\n\u001b[1;32m   1129\u001b[0m     \u001b[39mif\u001b[39;00m buffer \u001b[39mis\u001b[39;00m \u001b[39mnot\u001b[39;00m \u001b[39mNone\u001b[39;00m:\n\u001b[0;32m-> 1130\u001b[0m         \u001b[39mreturn\u001b[39;00m \u001b[39mself\u001b[39;49m\u001b[39m.\u001b[39;49m_sslobj\u001b[39m.\u001b[39;49mread(\u001b[39mlen\u001b[39;49m, buffer)\n\u001b[1;32m   1131\u001b[0m     \u001b[39melse\u001b[39;00m:\n\u001b[1;32m   1132\u001b[0m         \u001b[39mreturn\u001b[39;00m \u001b[39mself\u001b[39m\u001b[39m.\u001b[39m_sslobj\u001b[39m.\u001b[39mread(\u001b[39mlen\u001b[39m)\n",
      "\u001b[0;31mKeyboardInterrupt\u001b[0m: "
     ]
    }
   ],
   "source": [
    "animal_results = get_results_by_terms(animals, popularity=80)"
   ]
  },
  {
   "cell_type": "code",
   "execution_count": 15,
   "metadata": {},
   "outputs": [
    {
     "data": {
      "text/plain": [
       "{'display_name': 'Oskar',\n",
       " 'external_urls': {'spotify': 'https://open.spotify.com/user/lg34h890tiix7p4bvuyiixncm'},\n",
       " 'followers': {'href': None, 'total': 1},\n",
       " 'href': 'https://api.spotify.com/v1/users/lg34h890tiix7p4bvuyiixncm',\n",
       " 'id': 'lg34h890tiix7p4bvuyiixncm',\n",
       " 'images': [],\n",
       " 'type': 'user',\n",
       " 'uri': 'spotify:user:lg34h890tiix7p4bvuyiixncm'}"
      ]
     },
     "execution_count": 15,
     "metadata": {},
     "output_type": "execute_result"
    }
   ],
   "source": [
    "sp.me()"
   ]
  },
  {
   "cell_type": "code",
   "execution_count": null,
   "metadata": {},
   "outputs": [],
   "source": []
  }
 ],
 "metadata": {
  "kernelspec": {
   "display_name": "Python 3.10.6 ('spotify')",
   "language": "python",
   "name": "python3"
  },
  "language_info": {
   "codemirror_mode": {
    "name": "ipython",
    "version": 3
   },
   "file_extension": ".py",
   "mimetype": "text/x-python",
   "name": "python",
   "nbconvert_exporter": "python",
   "pygments_lexer": "ipython3",
   "version": "3.10.6"
  },
  "orig_nbformat": 4,
  "vscode": {
   "interpreter": {
    "hash": "c673b70ac03756922b24ba87690ab1fe83414d5fd0c24f502bef6d9c5d4e5a53"
   }
  }
 },
 "nbformat": 4,
 "nbformat_minor": 2
}
